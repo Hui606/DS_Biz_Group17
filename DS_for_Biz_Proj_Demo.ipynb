{
  "nbformat": 4,
  "nbformat_minor": 0,
  "metadata": {
    "colab": {
      "provenance": [],
      "authorship_tag": "ABX9TyMpsk1iMbMulFpX0skIOYmN",
      "include_colab_link": true
    },
    "kernelspec": {
      "name": "python3",
      "display_name": "Python 3"
    },
    "language_info": {
      "name": "python"
    }
  },
  "cells": [
    {
      "cell_type": "markdown",
      "metadata": {
        "id": "view-in-github",
        "colab_type": "text"
      },
      "source": [
        "<a href=\"https://colab.research.google.com/github/Hui606/DS_Biz_Group17/blob/master/DS_for_Biz_Proj_Demo.ipynb\" target=\"_parent\"><img src=\"https://colab.research.google.com/assets/colab-badge.svg\" alt=\"Open In Colab\"/></a>"
      ]
    },
    {
      "cell_type": "markdown",
      "source": [
        "Read in the data"
      ],
      "metadata": {
        "id": "5IKcNS_4v9z_"
      }
    },
    {
      "cell_type": "code",
      "execution_count": 45,
      "metadata": {
        "id": "cp858a-B3oPf"
      },
      "outputs": [],
      "source": [
        "# import all libs\n",
        "import pandas as pd\n",
        "import numpy as np\n",
        "\n",
        "from sklearn.tree import DecisionTreeClassifier\n",
        "from sklearn.linear_model import LogisticRegression\n",
        "from sklearn.ensemble import RandomForestClassifier\n",
        "from sklearn.neighbors import KNeighborsClassifier\n",
        "from sklearn.model_selection import cross_val_score\n",
        "from sklearn.metrics import roc_auc_score\n",
        "from sklearn.model_selection import train_test_split\n",
        "from sklearn.metrics import roc_curve, auc\n",
        "from sklearn.metrics import accuracy_score, precision_score\n",
        "\n",
        "import matplotlib.pyplot as plt"
      ]
    },
    {
      "cell_type": "code",
      "source": [
        "!git clone https://github.com/Hui606/DS_Biz_Group17.git\n",
        "%cd DS_Biz_Group17"
      ],
      "metadata": {
        "colab": {
          "base_uri": "https://localhost:8080/"
        },
        "id": "-vhVpjskol4P",
        "outputId": "e1aa644d-d956-46b6-e98c-f8b46f5350b2"
      },
      "execution_count": 46,
      "outputs": [
        {
          "output_type": "stream",
          "name": "stdout",
          "text": [
            "fatal: destination path 'DS_Biz_Group17' already exists and is not an empty directory.\n",
            "/content/DS_Biz_Group17/DS_Biz_Group17\n"
          ]
        }
      ]
    },
    {
      "cell_type": "code",
      "source": [
        "\n",
        "# TODO: need to find a better way to import later\n",
        "# drive.mount('/content/drive')"
      ],
      "metadata": {
        "id": "o2Ji4POe43iO"
      },
      "execution_count": 47,
      "outputs": []
    },
    {
      "cell_type": "code",
      "source": [
        "# !ls \"/content/drive/MyDrive/DS_for_Biz_Spring_2023/proj/dataset\"\n",
        "!ls \"./\""
      ],
      "metadata": {
        "colab": {
          "base_uri": "https://localhost:8080/"
        },
        "id": "-0we4Jom51CZ",
        "outputId": "ba8d95cb-641b-4b3e-fee2-3436b67a709c"
      },
      "execution_count": 48,
      "outputs": [
        {
          "output_type": "stream",
          "name": "stdout",
          "text": [
            "crash_dataset.csv\n"
          ]
        }
      ]
    },
    {
      "cell_type": "code",
      "source": [
        "# import the dataset\n",
        "# If necessary change the path below so that it points to your file.\n",
        "data_path = \"crash_dataset.csv\"\n",
        "\n",
        "# Load the dataset\n",
        "df = pd.read_csv(data_path)"
      ],
      "metadata": {
        "colab": {
          "base_uri": "https://localhost:8080/"
        },
        "id": "qqJnczAx7Hwp",
        "outputId": "3f6f4a2d-77d7-445f-d4b2-f03fd29a6f98"
      },
      "execution_count": 49,
      "outputs": [
        {
          "output_type": "stream",
          "name": "stderr",
          "text": [
            "<ipython-input-49-c80d17ce20cc>:6: DtypeWarning: Columns (3) have mixed types. Specify dtype option on import or set low_memory=False.\n",
            "  df = pd.read_csv(data_path)\n"
          ]
        }
      ]
    },
    {
      "cell_type": "markdown",
      "source": [
        "## **Preprocessing**"
      ],
      "metadata": {
        "id": "slML5CcbwC4y"
      }
    },
    {
      "cell_type": "code",
      "source": [
        "# Convert CRASH TIME to one hour unit\n",
        "df['CRASH TIME'] = pd.to_datetime(df['CRASH TIME'])\n",
        "df['CRASH TIME'] = df['CRASH TIME'].dt.hour\n",
        "\n",
        "# only keep the month\n",
        "df['CRASH MONTH'] = pd.to_datetime(df['CRASH DATE']).dt.month"
      ],
      "metadata": {
        "id": "-ZzOZigbBb9w"
      },
      "execution_count": 50,
      "outputs": []
    },
    {
      "cell_type": "code",
      "source": [
        "# define target variable CASUALTY_LEVEL = 1 if fatality >= 1, otherwise = 0\n",
        "df['CASUALTY_LEVEL'] = (df['NUMBER OF PERSONS KILLED'] + df['NUMBER OF PEDESTRIANS KILLED'] + \n",
        "                        df['NUMBER OF CYCLIST KILLED'] + df['NUMBER OF MOTORIST KILLED']).apply(lambda x: 1 if x >= 1 else 0)"
      ],
      "metadata": {
        "id": "BX1JpAWbHWxi"
      },
      "execution_count": 51,
      "outputs": []
    },
    {
      "cell_type": "code",
      "source": [
        "# case with fatality\n",
        "print(np.count_nonzero(df['CASUALTY_LEVEL']))"
      ],
      "metadata": {
        "colab": {
          "base_uri": "https://localhost:8080/"
        },
        "id": "38YfNchwIQyF",
        "outputId": "b3ab9082-66c4-4867-b4e5-45026423fdc7"
      },
      "execution_count": 52,
      "outputs": [
        {
          "output_type": "stream",
          "name": "stdout",
          "text": [
            "2711\n"
          ]
        }
      ]
    },
    {
      "cell_type": "code",
      "source": [
        "# select the features and target var\n",
        "data = df[['CRASH MONTH', 'CRASH TIME', 'BOROUGH', 'ZIP CODE','NUMBER OF PERSONS INJURED', \n",
        "               'CONTRIBUTING FACTOR VEHICLE 1', 'CONTRIBUTING FACTOR VEHICLE 2',\n",
        "               'CONTRIBUTING FACTOR VEHICLE 3', 'CONTRIBUTING FACTOR VEHICLE 4',\n",
        "               'CONTRIBUTING FACTOR VEHICLE 5', 'VEHICLE TYPE CODE 1', \n",
        "               'VEHICLE TYPE CODE 2', 'VEHICLE TYPE CODE 3', 'VEHICLE TYPE CODE 4', \n",
        "               'VEHICLE TYPE CODE 5', 'CASUALTY_LEVEL']]\n",
        "\n",
        "# remove invalid rows\n",
        "data = data.dropna(subset=['BOROUGH', 'NUMBER OF PERSONS INJURED','ZIP CODE'])\n",
        "\n",
        "print(len(data.index))\n",
        "\n",
        "# release RAM\n",
        "del df"
      ],
      "metadata": {
        "colab": {
          "base_uri": "https://localhost:8080/"
        },
        "id": "wHuZYupjJcSE",
        "outputId": "c7bc1379-9574-4ccc-80bd-05ab8c072d95"
      },
      "execution_count": 53,
      "outputs": [
        {
          "output_type": "stream",
          "name": "stdout",
          "text": [
            "1364693\n"
          ]
        }
      ]
    },
    {
      "cell_type": "markdown",
      "source": [
        "One-hot encoding CONTRIBUTING FACTOR VEHICLE\n",
        "\n",
        "Also make sure \"A,B\" is same as \"B,A\""
      ],
      "metadata": {
        "id": "sKk62bwb6NYg"
      }
    },
    {
      "cell_type": "code",
      "source": [
        "# Extract the contributing factor columns\n",
        "# data = data.head(6)\n",
        "invalid_factor_placeholder = 'unspecified'\n",
        "contributing_factor_cols = ['CONTRIBUTING FACTOR VEHICLE 1',\n",
        "                            'CONTRIBUTING FACTOR VEHICLE 2',\n",
        "                            'CONTRIBUTING FACTOR VEHICLE 3',\n",
        "                            'CONTRIBUTING FACTOR VEHICLE 4',\n",
        "                            'CONTRIBUTING FACTOR VEHICLE 5']\n",
        "\n",
        "# replace all the NaN with placeholders\n",
        "data[contributing_factor_cols] = data[contributing_factor_cols].replace(np.nan, invalid_factor_placeholder)\n",
        "# print(data)\n",
        "# delete rows where all the columns in contributing_factor_cols are 'Unspecified'\n",
        "data = data[~(data[contributing_factor_cols] == invalid_factor_placeholder).all(axis=1)]\n",
        "\n",
        "# lower the text to prevent case like \"Illegal\" and \"illegal\"\n",
        "for c in contributing_factor_cols:\n",
        "  data[c] = data[c].str.lower()\n",
        "\n",
        "# One-hot encode the contributing factor columns\n",
        "one_hot_df = pd.get_dummies(data[contributing_factor_cols], prefix='CF')\n",
        "# print(one_hot_df)\n",
        "\n",
        "#define function to merge columns with same names together\n",
        "# def same_merge(x): return 1 if sum(x[x.notnull()].astype(float)) >= 1 else 0\n",
        "\n",
        "#define new DataFrame that merges columns with same names together\n",
        "one_hot_df = one_hot_df.groupby(level=0, axis=1).sum()\n",
        "\n",
        "# loop through the specified columns and set them as binary\n",
        "for col in one_hot_df:\n",
        "  one_hot_df[col] = (one_hot_df[col] >= 1).astype(int)\n",
        "\n",
        "# drop CONTRIBUTING FACTOR VEHICLE\n",
        "data = data.drop(contributing_factor_cols, axis=1)\n",
        "data = pd.concat([data, one_hot_df], axis=1)\n",
        "\n",
        "# remove the col 'CF_Unspecified'\n",
        "data = data.drop(f'CF_{invalid_factor_placeholder}', axis=1)\n",
        "\n",
        "# print(data)\n",
        "\n",
        "print(len(data.index))"
      ],
      "metadata": {
        "colab": {
          "base_uri": "https://localhost:8080/"
        },
        "id": "vi-xtNiHWroV",
        "outputId": "aaf3b991-63fe-47b2-f39b-4b009088d50d"
      },
      "execution_count": 54,
      "outputs": [
        {
          "output_type": "stream",
          "name": "stdout",
          "text": [
            "1359988\n"
          ]
        }
      ]
    },
    {
      "cell_type": "markdown",
      "source": [
        "Now we do the same thing to VEHICLE TYPE CODE.\n",
        "\n",
        "But one more operation is to keep only the top 'limit' codes as there are over 1000 codes which are too many for one-hot encoding."
      ],
      "metadata": {
        "id": "owVTaK0r60X8"
      }
    },
    {
      "cell_type": "code",
      "source": [
        "\n",
        "# data = data.head(6)\n",
        "\n",
        "# Extract the contributing factor columns\n",
        "invalid_type_code_placeholder = 'unspecified'\n",
        "vehicle_type_code_cols = ['VEHICLE TYPE CODE 1',\n",
        "                            'VEHICLE TYPE CODE 2',\n",
        "                            'VEHICLE TYPE CODE 3',\n",
        "                            'VEHICLE TYPE CODE 4',\n",
        "                            'VEHICLE TYPE CODE 5']\n",
        "\n",
        "# get the top 'limit' values in the column ranked by frequency \n",
        "# and remove all others. Doing this due to RAM limit\n",
        "limit = 50\n",
        "for c in vehicle_type_code_cols:\n",
        "  # get the top 'limit' values in the column ranked by frequency\n",
        "  top_freq_values = data[c].value_counts().nlargest(limit).index.tolist()\n",
        "\n",
        "  # sort the top values by frequency and then by alphabetical order\n",
        "  top_freq_values = sorted(top_freq_values, key=lambda x: (-data[c].value_counts()[x], x))\n",
        "\n",
        "  # replace all values not in the top 50 with NaN\n",
        "  data.loc[~data[c].isin(top_freq_values), c] = np.nan\n",
        "\n",
        "# print(data[vehicle_type_code_cols])"
      ],
      "metadata": {
        "id": "n3w_j08f6GMZ"
      },
      "execution_count": 55,
      "outputs": []
    },
    {
      "cell_type": "code",
      "source": [
        "\n",
        "\n",
        "# replace all the NaN with placeholders\n",
        "data[vehicle_type_code_cols] = data[vehicle_type_code_cols].replace(np.nan, invalid_type_code_placeholder)\n",
        "# print(data)\n",
        "# delete rows where all the columns in contributing_factor_cols are 'Unspecified'\n",
        "data = data[~(data[vehicle_type_code_cols] == invalid_type_code_placeholder).all(axis=1)]\n",
        "\n",
        "# lower the text to prevent case like \"Illegal\" and \"illegal\"\n",
        "for c in vehicle_type_code_cols:\n",
        "  data[c] = data[c].str.lower()\n",
        "\n",
        "# One-hot encode the contributing factor columns\n",
        "one_hot_df = pd.get_dummies(data[vehicle_type_code_cols], prefix='VTC')\n",
        "# print(one_hot_df)\n",
        "\n",
        "#define new DataFrame that merges columns with same names together\n",
        "one_hot_df = one_hot_df.groupby(level=0, axis=1).sum()\n",
        "\n",
        "# loop through the specified columns and set them as binary\n",
        "for col in one_hot_df:\n",
        "  one_hot_df[col] = (one_hot_df[col] >= 1).astype(int)\n",
        "\n",
        "# drop CONTRIBUTING FACTOR VEHICLE\n",
        "data = data.drop(vehicle_type_code_cols, axis=1)\n",
        "data = pd.concat([data, one_hot_df], axis=1)\n",
        "\n",
        "# remove the col 'CF_Unspecified'\n",
        "data = data.drop(f'VTC_{invalid_factor_placeholder}', axis=1)\n",
        "\n",
        "# print(data)\n",
        "\n",
        "print(len(data.columns))"
      ],
      "metadata": {
        "colab": {
          "base_uri": "https://localhost:8080/"
        },
        "id": "AETkg8bu6ltb",
        "outputId": "af907da5-f186-402d-d5f5-e1c2b2b43a76"
      },
      "execution_count": 56,
      "outputs": [
        {
          "output_type": "stream",
          "name": "stdout",
          "text": [
            "124\n"
          ]
        }
      ]
    },
    {
      "cell_type": "code",
      "source": [
        "print(data.columns)"
      ],
      "metadata": {
        "colab": {
          "base_uri": "https://localhost:8080/"
        },
        "id": "zyqLzbVu8ekk",
        "outputId": "da870f57-cba8-49fa-b7ad-fc2c33e00c6e"
      },
      "execution_count": 57,
      "outputs": [
        {
          "output_type": "stream",
          "name": "stdout",
          "text": [
            "Index(['CRASH MONTH', 'CRASH TIME', 'BOROUGH', 'ZIP CODE',\n",
            "       'NUMBER OF PERSONS INJURED', 'CASUALTY_LEVEL', 'CF_1', 'CF_80',\n",
            "       'CF_accelerator defective', 'CF_aggressive driving/road rage',\n",
            "       ...\n",
            "       'VTC_tow truck / wrecker', 'VTC_tractor tr', 'VTC_tractor truck diesel',\n",
            "       'VTC_tractor truck gasoline', 'VTC_trailer', 'VTC_trailor', 'VTC_unkno',\n",
            "       'VTC_unknown', 'VTC_van', 'VTC_van ford'],\n",
            "      dtype='object', length=124)\n"
          ]
        }
      ]
    },
    {
      "cell_type": "markdown",
      "source": [
        "Next we one-hot encode MONTH, TIME(hour unit), ZIP CODE, BOROUGH"
      ],
      "metadata": {
        "id": "_beYoA1F-Q6E"
      }
    },
    {
      "cell_type": "code",
      "source": [
        "print(len(data.index))"
      ],
      "metadata": {
        "colab": {
          "base_uri": "https://localhost:8080/"
        },
        "id": "-ITsgh6DzIJw",
        "outputId": "de45ae90-a5a3-4ea0-f5ad-42b8d93bce10"
      },
      "execution_count": 58,
      "outputs": [
        {
          "output_type": "stream",
          "name": "stdout",
          "text": [
            "1352194\n"
          ]
        }
      ]
    },
    {
      "cell_type": "code",
      "source": [
        "one_hot = pd.get_dummies(data['CRASH MONTH'], prefix='MONTH')\n",
        "data = data.join(one_hot)\n",
        "\n",
        "one_hot = pd.get_dummies(data['CRASH TIME'], prefix='TIME')\n",
        "data = data.join(one_hot)"
      ],
      "metadata": {
        "id": "mOn-Gbq8BpIh"
      },
      "execution_count": 59,
      "outputs": []
    },
    {
      "cell_type": "code",
      "source": [
        "one_hot = pd.get_dummies(data['ZIP CODE'], prefix='ZIP_CODE')\n",
        "\n",
        "data = pd.concat([data, one_hot], axis=1)"
      ],
      "metadata": {
        "id": "TSXrwTSqodnX"
      },
      "execution_count": 60,
      "outputs": []
    },
    {
      "cell_type": "code",
      "source": [
        "one_hot = pd.get_dummies(data['BOROUGH'], prefix='BOROUGH')\n",
        "\n",
        "data = pd.concat([data, one_hot], axis=1)"
      ],
      "metadata": {
        "id": "v8vERs4PqMW-"
      },
      "execution_count": 61,
      "outputs": []
    },
    {
      "cell_type": "code",
      "source": [
        "# get rid of uncoded cols\n",
        "data = data.drop(['CRASH MONTH',\n",
        "'CRASH TIME',\n",
        "'BOROUGH',\n",
        "'ZIP CODE'], axis=1)"
      ],
      "metadata": {
        "id": "jxspLSM18rMD"
      },
      "execution_count": 62,
      "outputs": []
    },
    {
      "cell_type": "code",
      "source": [
        "count = ((data['CASUALTY_LEVEL'] == 1)).sum() # how many cases have death\n",
        "print(count)"
      ],
      "metadata": {
        "colab": {
          "base_uri": "https://localhost:8080/"
        },
        "id": "MKF92IMwsBKM",
        "outputId": "65830850-d19a-404e-9845-639da38e832d"
      },
      "execution_count": 63,
      "outputs": [
        {
          "output_type": "stream",
          "name": "stdout",
          "text": [
            "1597\n"
          ]
        }
      ]
    },
    {
      "cell_type": "markdown",
      "source": [
        "Save the pre-processed dataset as CSV for later reuse"
      ],
      "metadata": {
        "id": "RV3vI_jqtobu"
      }
    },
    {
      "cell_type": "code",
      "source": [
        "# data.to_csv('crash_training_data.csv')"
      ],
      "metadata": {
        "id": "F296lemGtoKr"
      },
      "execution_count": 64,
      "outputs": []
    },
    {
      "cell_type": "markdown",
      "source": [
        "## **Training**\n",
        "We can start sampling by undersampling as we have one 1% case with death"
      ],
      "metadata": {
        "id": "uGHEqF-zy0i5"
      }
    },
    {
      "cell_type": "code",
      "source": [
        "# Undersample majority class\n",
        "from sklearn.utils import resample\n",
        "\n",
        "# Separate majority and minority classes\n",
        "majority = data[data['CASUALTY_LEVEL']==0]\n",
        "minority = data[data['CASUALTY_LEVEL']==1]\n",
        "\n",
        "# Undersample majority class\n",
        "undersampled_majority = resample(majority, replace=False, n_samples=len(minority), random_state=42)\n",
        "\n",
        "# Combine minority class with undersampled majority class\n",
        "training = pd.concat([undersampled_majority, minority])"
      ],
      "metadata": {
        "id": "79Rs096fzCgm"
      },
      "execution_count": 65,
      "outputs": []
    },
    {
      "cell_type": "markdown",
      "source": [
        "Normalizing"
      ],
      "metadata": {
        "id": "vcFQUlih6QGl"
      }
    },
    {
      "cell_type": "code",
      "source": [
        "from sklearn.preprocessing import StandardScaler, MinMaxScaler\n",
        "\n",
        "# select numerical columns\n",
        "numerical_cols = training.columns\n",
        "\n",
        "# normalize numerical columns\n",
        "scaler = MinMaxScaler()\n",
        "training[numerical_cols] = scaler.fit_transform(training[numerical_cols])"
      ],
      "metadata": {
        "id": "5cQd00GRw7-o"
      },
      "execution_count": 66,
      "outputs": []
    },
    {
      "cell_type": "markdown",
      "source": [
        "Split the data to 4 parts"
      ],
      "metadata": {
        "id": "hqVFCQ4bT8hr"
      }
    },
    {
      "cell_type": "code",
      "source": [
        "# Split data into features and target variable\n",
        "X = training.drop(['CASUALTY_LEVEL'], axis=1)\n",
        "y = training['CASUALTY_LEVEL']\n",
        "\n",
        "# Split the data into training and testing sets\n",
        "X_train, X_test, y_train, y_test = train_test_split(X, y, test_size=0.2, random_state=42)"
      ],
      "metadata": {
        "id": "wcMW982y8gXo"
      },
      "execution_count": 67,
      "outputs": []
    },
    {
      "cell_type": "markdown",
      "source": [
        "Use ROC to find the best model"
      ],
      "metadata": {
        "id": "MFRbCtye7UBM"
      }
    },
    {
      "cell_type": "code",
      "source": [
        "# Model 1: Decision tree classifier\n",
        "dt_scores = []\n",
        "for min_samples_leaf in range(1, 21, 5):\n",
        "    dt = DecisionTreeClassifier(min_samples_leaf=min_samples_leaf, random_state=42)\n",
        "    scores = cross_val_score(dt, X_train, y_train, cv=10, scoring='roc_auc')\n",
        "    dt_scores.append((min_samples_leaf, scores.mean()))\n",
        "\n",
        "best_dt = max(dt_scores, key=lambda x: x[1])\n",
        "print(\"Best Decision Tree Classifier: min_samples_leaf={}, ROC AUC={:.4f}\".format(best_dt[0], best_dt[1]))\n",
        "\n",
        "# Model 2: Logistic regression\n",
        "lr_scores = []\n",
        "for C in np.logspace(-4, 4, 8):\n",
        "    lr = LogisticRegression(C=C, random_state=42, max_iter = 5000)\n",
        "    scores = cross_val_score(lr, X_train, y_train, cv=10, scoring='roc_auc')\n",
        "    lr_scores.append((C, scores.mean()))\n",
        "\n",
        "best_lr = max(lr_scores, key=lambda x: x[1])\n",
        "print(\"Best Logistic Regression: C={}, ROC AUC={:.4f}\".format(best_lr[0], best_lr[1]))\n",
        "\n",
        "# # Model 3: Random forest classifier\n",
        "rf_scores = []\n",
        "for n_estimators in range(100, 300, 100):\n",
        "    for max_depth in range(5, 21, 5):\n",
        "        rf = RandomForestClassifier(n_estimators=n_estimators, max_depth=max_depth, random_state=42)\n",
        "        scores = cross_val_score(rf, X_train, y_train, cv=10, scoring='roc_auc')\n",
        "        rf_scores.append(((n_estimators, max_depth), scores.mean()))\n",
        "\n",
        "best_rf = max(rf_scores, key=lambda x: x[1])\n",
        "print(\"Best Random Forest Classifier: n_estimators={}, max_depth={}, ROC AUC={:.4f}\".format(best_rf[0][0], best_rf[0][1], best_rf[1]))\n",
        "\n",
        "models = {'Decision tree classifier': best_dt, 'Logistic regression': best_lr, 'Random forest classifier': best_rf}\n",
        "best_model = max(models.items(), key=lambda x: x[1][1])\n",
        "\n",
        "print(f'The best model is {best_model[0]}')"
      ],
      "metadata": {
        "colab": {
          "base_uri": "https://localhost:8080/"
        },
        "id": "VMfIl6oz3Ijx",
        "outputId": "0c84505a-56b8-4dc1-cbb2-9a01f6405127"
      },
      "execution_count": 68,
      "outputs": [
        {
          "output_type": "stream",
          "name": "stdout",
          "text": [
            "Best Decision Tree Classifier: min_samples_leaf=16, ROC AUC=0.7703\n",
            "Best Logistic Regression: C=0.2682695795279725, ROC AUC=0.8043\n",
            "Best Random Forest Classifier: n_estimators=200, max_depth=20, ROC AUC=0.8189\n",
            "The best model is Random forest classifier\n"
          ]
        }
      ]
    },
    {
      "cell_type": "code",
      "execution_count": 69,
      "metadata": {
        "collapsed": true,
        "id": "MYB4h76_2CPy",
        "colab": {
          "base_uri": "https://localhost:8080/",
          "height": 542
        },
        "outputId": "ca19ccd1-bf45-4e33-df15-12fd2b20e4af"
      },
      "outputs": [
        {
          "output_type": "display_data",
          "data": {
            "text/plain": [
              "<Figure size 800x600 with 1 Axes>"
            ],
            "image/png": "[encoded data removed]"
          },
          "metadata": {}
        }
      ],
      "source": [
        "# Fit the best models found in the previous question\n",
        "dtc = DecisionTreeClassifier(min_samples_leaf=models['Decision tree classifier'][0])\n",
        "dtc.fit(X_train, y_train)\n",
        "\n",
        "lr = LogisticRegression(C=models['Logistic regression'][0], max_iter = 5000)\n",
        "lr.fit(X_train, y_train)\n",
        "\n",
        "rfc = RandomForestClassifier(n_estimators=models['Random forest classifier'][0][0], max_depth=models['Random forest classifier'][0][1])\n",
        "rfc.fit(X_train, y_train)\n",
        "\n",
        "# Predict probabilities for each model\n",
        "y_pred_dtc = dtc.predict_proba(X_test)[:, 1]\n",
        "y_pred_lr = lr.predict_proba(X_test)[:, 1]\n",
        "y_pred_rfc = rfc.predict_proba(X_test)[:, 1]\n",
        "\n",
        "# Calculate ROC curve and AUC for each model\n",
        "fpr_dtc, tpr_dtc, _ = roc_curve(y_test, y_pred_dtc)\n",
        "fpr_lr, tpr_lr, _ = roc_curve(y_test, y_pred_lr)\n",
        "fpr_rfc, tpr_rfc, _ = roc_curve(y_test, y_pred_rfc)\n",
        "\n",
        "roc_auc_dtc = auc(fpr_dtc, tpr_dtc)\n",
        "roc_auc_lr = auc(fpr_lr, tpr_lr)\n",
        "roc_auc_rfc = auc(fpr_rfc, tpr_rfc)\n",
        "\n",
        "# Plot ROC curves\n",
        "plt.figure(figsize=(8, 6))\n",
        "plt.plot(fpr_dtc, tpr_dtc, color='darkorange', lw=2, label=f'Decision Tree, AUC={roc_auc_dtc}')\n",
        "plt.plot(fpr_lr, tpr_lr, color='blue', lw=2, label=f'Logistic Regression, AUC={roc_auc_lr}')\n",
        "plt.plot(fpr_rfc, tpr_rfc, color='green', lw=2, label=f'Random Forest, AUC={roc_auc_rfc}')\n",
        "plt.plot([0, 1], [0, 1], color='gray', lw=2, linestyle='--')\n",
        "plt.xlim([0.0, 1.0])\n",
        "plt.ylim([0.0, 1.05])\n",
        "plt.xlabel('False Positive Rate')\n",
        "plt.ylabel('True Positive Rate')\n",
        "plt.legend(loc=\"lower right\")\n",
        "plt.show()"
      ]
    },
    {
      "cell_type": "code",
      "source": [
        "y_pred_lr_binary = y_pred_lr > 0.5  # convert probabilities to binary predictions\n",
        "accuracy = accuracy_score(y_test, y_pred_lr_binary)\n",
        "print(\"Accuracy:\", accuracy)\n",
        "\n",
        "y_pred_rfc_binary = y_pred_rfc > 0.5  # convert probabilities to binary predictions\n",
        "accuracy = accuracy_score(y_test, y_pred_rfc_binary)\n",
        "print(\"Accuracy:\", accuracy)\n",
        "\n",
        "# precision = precision_score(y_test, y_pred_lr_binary)\n",
        "# print(\"Precision:\", precision)"
      ],
      "metadata": {
        "colab": {
          "base_uri": "https://localhost:8080/"
        },
        "id": "EIykWFXWMUyK",
        "outputId": "e5710071-735d-4a83-e9ab-8a7cf45178eb"
      },
      "execution_count": 70,
      "outputs": [
        {
          "output_type": "stream",
          "name": "stdout",
          "text": [
            "Accuracy: 0.7636932707355243\n",
            "Accuracy: 0.7652582159624414\n"
          ]
        }
      ]
    },
    {
      "cell_type": "code",
      "source": [],
      "metadata": {
        "id": "FdQGtolRvI9V"
      },
      "execution_count": 70,
      "outputs": []
    }
  ]
}